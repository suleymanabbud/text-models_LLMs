{
 "cells": [
  {
   "cell_type": "code",
   "execution_count": 1,
   "id": "1205f357",
   "metadata": {},
   "outputs": [],
   "source": [
    "model_name = 'nlptown/bert-base-multilingual-uncased-sentiment'"
   ]
  },
  {
   "cell_type": "code",
   "execution_count": 2,
   "id": "101e0f8c",
   "metadata": {},
   "outputs": [
    {
     "name": "stdout",
     "output_type": "stream",
     "text": [
      "Requirement already satisfied: Transformers in c:\\users\\special tek\\appdata\\local\\programs\\python\\python39\\lib\\site-packages (4.40.2)\n",
      "Requirement already satisfied: filelock in c:\\users\\special tek\\appdata\\local\\programs\\python\\python39\\lib\\site-packages (from Transformers) (3.13.4)\n",
      "Requirement already satisfied: huggingface-hub<1.0,>=0.19.3 in c:\\users\\special tek\\appdata\\local\\programs\\python\\python39\\lib\\site-packages (from Transformers) (0.23.0)\n",
      "Requirement already satisfied: numpy>=1.17 in c:\\users\\special tek\\appdata\\local\\programs\\python\\python39\\lib\\site-packages (from Transformers) (1.23.5)\n",
      "Requirement already satisfied: packaging>=20.0 in c:\\users\\special tek\\appdata\\local\\programs\\python\\python39\\lib\\site-packages (from Transformers) (23.0)\n",
      "Requirement already satisfied: pyyaml>=5.1 in c:\\users\\special tek\\appdata\\local\\programs\\python\\python39\\lib\\site-packages (from Transformers) (5.4.1)\n",
      "Requirement already satisfied: regex!=2019.12.17 in c:\\users\\special tek\\appdata\\local\\programs\\python\\python39\\lib\\site-packages (from Transformers) (2024.5.15)\n",
      "Requirement already satisfied: requests in c:\\users\\special tek\\appdata\\local\\programs\\python\\python39\\lib\\site-packages (from Transformers) (2.28.1)\n",
      "Requirement already satisfied: tokenizers<0.20,>=0.19 in c:\\users\\special tek\\appdata\\local\\programs\\python\\python39\\lib\\site-packages (from Transformers) (0.19.1)\n",
      "Requirement already satisfied: safetensors>=0.4.1 in c:\\users\\special tek\\appdata\\local\\programs\\python\\python39\\lib\\site-packages (from Transformers) (0.4.3)\n",
      "Requirement already satisfied: tqdm>=4.27 in c:\\users\\special tek\\appdata\\local\\programs\\python\\python39\\lib\\site-packages (from Transformers) (4.65.0)\n",
      "Requirement already satisfied: fsspec>=2023.5.0 in c:\\users\\special tek\\appdata\\local\\programs\\python\\python39\\lib\\site-packages (from huggingface-hub<1.0,>=0.19.3->Transformers) (2024.3.1)\n",
      "Requirement already satisfied: typing-extensions>=3.7.4.3 in c:\\users\\special tek\\appdata\\local\\programs\\python\\python39\\lib\\site-packages (from huggingface-hub<1.0,>=0.19.3->Transformers) (4.13.0)\n",
      "Requirement already satisfied: colorama in c:\\users\\special tek\\appdata\\local\\programs\\python\\python39\\lib\\site-packages (from tqdm>=4.27->Transformers) (0.4.6)\n",
      "Requirement already satisfied: charset-normalizer<3,>=2 in c:\\users\\special tek\\appdata\\local\\programs\\python\\python39\\lib\\site-packages (from requests->Transformers) (2.1.1)\n",
      "Requirement already satisfied: idna<4,>=2.5 in c:\\users\\special tek\\appdata\\local\\programs\\python\\python39\\lib\\site-packages (from requests->Transformers) (3.4)\n",
      "Requirement already satisfied: urllib3<1.27,>=1.21.1 in c:\\users\\special tek\\appdata\\local\\programs\\python\\python39\\lib\\site-packages (from requests->Transformers) (1.26.13)\n",
      "Requirement already satisfied: certifi>=2017.4.17 in c:\\users\\special tek\\appdata\\local\\programs\\python\\python39\\lib\\site-packages (from requests->Transformers) (2022.12.7)\n",
      "Note: you may need to restart the kernel to use updated packages.\n"
     ]
    }
   ],
   "source": [
    "pip install Transformers"
   ]
  },
  {
   "cell_type": "code",
   "execution_count": 4,
   "id": "d51b6114",
   "metadata": {},
   "outputs": [
    {
     "name": "stderr",
     "output_type": "stream",
     "text": [
      "c:\\users\\special tek\\appdata\\local\\programs\\python\\python39\\lib\\site-packages\\huggingface_hub\\file_download.py:1132: FutureWarning: `resume_download` is deprecated and will be removed in version 1.0.0. Downloads always resume when possible. If you want to force a new download, use `force_download=True`.\n",
      "  warnings.warn(\n"
     ]
    },
    {
     "data": {
      "application/vnd.jupyter.widget-view+json": {
       "model_id": "865fef2b818e4ee8bf6c79aa080290bc",
       "version_major": 2,
       "version_minor": 0
      },
      "text/plain": [
       "tokenizer_config.json:   0%|          | 0.00/39.0 [00:00<?, ?B/s]"
      ]
     },
     "metadata": {},
     "output_type": "display_data"
    },
    {
     "name": "stderr",
     "output_type": "stream",
     "text": [
      "c:\\users\\special tek\\appdata\\local\\programs\\python\\python39\\lib\\site-packages\\huggingface_hub\\file_download.py:157: UserWarning: `huggingface_hub` cache-system uses symlinks by default to efficiently store duplicated files but your machine does not support them in C:\\Users\\SPECIAL TEK\\.cache\\huggingface\\hub\\models--nlptown--bert-base-multilingual-uncased-sentiment. Caching files will still work but in a degraded version that might require more space on your disk. This warning can be disabled by setting the `HF_HUB_DISABLE_SYMLINKS_WARNING` environment variable. For more details, see https://huggingface.co/docs/huggingface_hub/how-to-cache#limitations.\n",
      "To support symlinks on Windows, you either need to activate Developer Mode or to run Python as an administrator. In order to see activate developer mode, see this article: https://docs.microsoft.com/en-us/windows/apps/get-started/enable-your-device-for-development\n",
      "  warnings.warn(message)\n"
     ]
    },
    {
     "data": {
      "application/vnd.jupyter.widget-view+json": {
       "model_id": "56b7760081ff43a99222ac258e31b88c",
       "version_major": 2,
       "version_minor": 0
      },
      "text/plain": [
       "vocab.txt:   0%|          | 0.00/872k [00:00<?, ?B/s]"
      ]
     },
     "metadata": {},
     "output_type": "display_data"
    },
    {
     "data": {
      "application/vnd.jupyter.widget-view+json": {
       "model_id": "e1f90ea2b6fb41cc9e7bd622b34adc03",
       "version_major": 2,
       "version_minor": 0
      },
      "text/plain": [
       "special_tokens_map.json:   0%|          | 0.00/112 [00:00<?, ?B/s]"
      ]
     },
     "metadata": {},
     "output_type": "display_data"
    },
    {
     "data": {
      "application/vnd.jupyter.widget-view+json": {
       "model_id": "7c1796fa14804b6382e0871485faf9bf",
       "version_major": 2,
       "version_minor": 0
      },
      "text/plain": [
       "config.json:   0%|          | 0.00/953 [00:00<?, ?B/s]"
      ]
     },
     "metadata": {},
     "output_type": "display_data"
    },
    {
     "data": {
      "application/vnd.jupyter.widget-view+json": {
       "model_id": "2f38e6dd411d49858da32b160f5c07dc",
       "version_major": 2,
       "version_minor": 0
      },
      "text/plain": [
       "model.safetensors:   0%|          | 0.00/669M [00:00<?, ?B/s]"
      ]
     },
     "metadata": {},
     "output_type": "display_data"
    },
    {
     "name": "stderr",
     "output_type": "stream",
     "text": [
      "All PyTorch model weights were used when initializing TFBertForSequenceClassification.\n",
      "\n",
      "All the weights of TFBertForSequenceClassification were initialized from the PyTorch model.\n",
      "If your task is similar to the task the model of the checkpoint was trained on, you can already use TFBertForSequenceClassification for predictions without further training.\n"
     ]
    }
   ],
   "source": [
    "from transformers import BertTokenizer, TFBertForSequenceClassification\n",
    "\n",
    "tokenizer = BertTokenizer.from_pretrained(model_name)\n",
    "\n",
    "model = TFBertForSequenceClassification.from_pretrained(model_name)"
   ]
  },
  {
   "cell_type": "code",
   "execution_count": 7,
   "id": "549fb1ae",
   "metadata": {},
   "outputs": [
    {
     "name": "stdout",
     "output_type": "stream",
     "text": [
      "{'input_ids': [101, 151, 11157, 11153, 19594, 102], 'token_type_ids': [0, 0, 0, 0, 0, 0], 'attention_mask': [1, 1, 1, 1, 1, 1]}\n"
     ]
    },
    {
     "data": {
      "text/plain": [
       "4"
      ]
     },
     "execution_count": 7,
     "metadata": {},
     "output_type": "execute_result"
    }
   ],
   "source": [
    "text = \"I Love my job\"\n",
    "\n",
    "inputs = tokenizer(text)\n",
    "print(inputs)\n",
    "\n",
    "input_ids = inputs['input_ids']\n",
    "\n",
    "predictions = model.predict([input_ids])\n",
    "\n",
    "logits = predictions.logits\n",
    "\n",
    "import numpy as np\n",
    "\n",
    "predicted_class = np.argmax(logits)\n",
    "\n",
    "predicted_class"
   ]
  },
  {
   "cell_type": "code",
   "execution_count": 9,
   "id": "32a18589",
   "metadata": {},
   "outputs": [
    {
     "name": "stdout",
     "output_type": "stream",
     "text": [
      "The text is predicted to have a sentiment : very positive\n"
     ]
    }
   ],
   "source": [
    "sentiment_mapping = {\n",
    "    0: 'very_negative',\n",
    "    1: 'negative',\n",
    "    2: 'neutral',\n",
    "    3: 'positive',\n",
    "    4 : 'very positive'\n",
    "}\n",
    "\n",
    "predicted_sentiment = sentiment_mapping[predicted_class]\n",
    "print(\"The text is predicted to have a sentiment : {}\".format(predicted_sentiment))"
   ]
  },
  {
   "cell_type": "code",
   "execution_count": 12,
   "id": "82b01f5b",
   "metadata": {},
   "outputs": [
    {
     "name": "stdout",
     "output_type": "stream",
     "text": [
      "[[ 2.9380846   1.6215159  -0.16542606 -1.9236571  -1.9499066 ]]\n",
      "The text is predicted to have a sentiment : very_negative\n"
     ]
    }
   ],
   "source": [
    "text = \"I hate my job\"\n",
    "inputs = tokenizer(text,return_tensors='tf')\n",
    "\n",
    "input_ids = inputs['input_ids']\n",
    "\n",
    "predictions = model.predict([input_ids])\n",
    "\n",
    "logits = predictions.logits\n",
    "\n",
    "predicted_class = np.argmax(logits)\n",
    "\n",
    "print(logits)\n",
    "predicted_sentiment = sentiment_mapping[predicted_class]\n",
    "print(\"The text is predicted to have a sentiment : {}\".format(predicted_sentiment))"
   ]
  },
  {
   "cell_type": "code",
   "execution_count": 13,
   "id": "40b42dc0",
   "metadata": {},
   "outputs": [
    {
     "data": {
      "text/html": [
       "<div>\n",
       "<style scoped>\n",
       "    .dataframe tbody tr th:only-of-type {\n",
       "        vertical-align: middle;\n",
       "    }\n",
       "\n",
       "    .dataframe tbody tr th {\n",
       "        vertical-align: top;\n",
       "    }\n",
       "\n",
       "    .dataframe thead th {\n",
       "        text-align: right;\n",
       "    }\n",
       "</style>\n",
       "<table border=\"1\" class=\"dataframe\">\n",
       "  <thead>\n",
       "    <tr style=\"text-align: right;\">\n",
       "      <th></th>\n",
       "      <th>review</th>\n",
       "      <th>sentiment</th>\n",
       "    </tr>\n",
       "  </thead>\n",
       "  <tbody>\n",
       "    <tr>\n",
       "      <th>0</th>\n",
       "      <td>One of the other reviewers has mentioned that ...</td>\n",
       "      <td>positive</td>\n",
       "    </tr>\n",
       "    <tr>\n",
       "      <th>1</th>\n",
       "      <td>A wonderful little production. &lt;br /&gt;&lt;br /&gt;The...</td>\n",
       "      <td>positive</td>\n",
       "    </tr>\n",
       "    <tr>\n",
       "      <th>2</th>\n",
       "      <td>I thought this was a wonderful way to spend ti...</td>\n",
       "      <td>positive</td>\n",
       "    </tr>\n",
       "    <tr>\n",
       "      <th>3</th>\n",
       "      <td>Basically there's a family where a little boy ...</td>\n",
       "      <td>negative</td>\n",
       "    </tr>\n",
       "    <tr>\n",
       "      <th>4</th>\n",
       "      <td>Petter Mattei's \"Love in the Time of Money\" is...</td>\n",
       "      <td>positive</td>\n",
       "    </tr>\n",
       "    <tr>\n",
       "      <th>...</th>\n",
       "      <td>...</td>\n",
       "      <td>...</td>\n",
       "    </tr>\n",
       "    <tr>\n",
       "      <th>49995</th>\n",
       "      <td>I thought this movie did a down right good job...</td>\n",
       "      <td>positive</td>\n",
       "    </tr>\n",
       "    <tr>\n",
       "      <th>49996</th>\n",
       "      <td>Bad plot, bad dialogue, bad acting, idiotic di...</td>\n",
       "      <td>negative</td>\n",
       "    </tr>\n",
       "    <tr>\n",
       "      <th>49997</th>\n",
       "      <td>I am a Catholic taught in parochial elementary...</td>\n",
       "      <td>negative</td>\n",
       "    </tr>\n",
       "    <tr>\n",
       "      <th>49998</th>\n",
       "      <td>I'm going to have to disagree with the previou...</td>\n",
       "      <td>negative</td>\n",
       "    </tr>\n",
       "    <tr>\n",
       "      <th>49999</th>\n",
       "      <td>No one expects the Star Trek movies to be high...</td>\n",
       "      <td>negative</td>\n",
       "    </tr>\n",
       "  </tbody>\n",
       "</table>\n",
       "<p>50000 rows × 2 columns</p>\n",
       "</div>"
      ],
      "text/plain": [
       "                                                  review sentiment\n",
       "0      One of the other reviewers has mentioned that ...  positive\n",
       "1      A wonderful little production. <br /><br />The...  positive\n",
       "2      I thought this was a wonderful way to spend ti...  positive\n",
       "3      Basically there's a family where a little boy ...  negative\n",
       "4      Petter Mattei's \"Love in the Time of Money\" is...  positive\n",
       "...                                                  ...       ...\n",
       "49995  I thought this movie did a down right good job...  positive\n",
       "49996  Bad plot, bad dialogue, bad acting, idiotic di...  negative\n",
       "49997  I am a Catholic taught in parochial elementary...  negative\n",
       "49998  I'm going to have to disagree with the previou...  negative\n",
       "49999  No one expects the Star Trek movies to be high...  negative\n",
       "\n",
       "[50000 rows x 2 columns]"
      ]
     },
     "execution_count": 13,
     "metadata": {},
     "output_type": "execute_result"
    }
   ],
   "source": [
    "import pandas as pd\n",
    "csv_file = \"../IMDB_Dataset.csv\"\n",
    "\n",
    "df = pd.read_csv(csv_file)\n",
    "df"
   ]
  },
  {
   "cell_type": "code",
   "execution_count": 16,
   "id": "ed269a7e",
   "metadata": {},
   "outputs": [
    {
     "data": {
      "text/html": [
       "<div>\n",
       "<style scoped>\n",
       "    .dataframe tbody tr th:only-of-type {\n",
       "        vertical-align: middle;\n",
       "    }\n",
       "\n",
       "    .dataframe tbody tr th {\n",
       "        vertical-align: top;\n",
       "    }\n",
       "\n",
       "    .dataframe thead th {\n",
       "        text-align: right;\n",
       "    }\n",
       "</style>\n",
       "<table border=\"1\" class=\"dataframe\">\n",
       "  <thead>\n",
       "    <tr style=\"text-align: right;\">\n",
       "      <th></th>\n",
       "      <th>review</th>\n",
       "      <th>sentiment</th>\n",
       "    </tr>\n",
       "  </thead>\n",
       "  <tbody>\n",
       "    <tr>\n",
       "      <th>0</th>\n",
       "      <td>One of the other reviewers has mentioned that ...</td>\n",
       "      <td>positive</td>\n",
       "    </tr>\n",
       "    <tr>\n",
       "      <th>1</th>\n",
       "      <td>A wonderful little production. &lt;br /&gt;&lt;br /&gt;The...</td>\n",
       "      <td>positive</td>\n",
       "    </tr>\n",
       "    <tr>\n",
       "      <th>2</th>\n",
       "      <td>I thought this was a wonderful way to spend ti...</td>\n",
       "      <td>positive</td>\n",
       "    </tr>\n",
       "    <tr>\n",
       "      <th>3</th>\n",
       "      <td>Basically there's a family where a little boy ...</td>\n",
       "      <td>negative</td>\n",
       "    </tr>\n",
       "    <tr>\n",
       "      <th>4</th>\n",
       "      <td>Petter Mattei's \"Love in the Time of Money\" is...</td>\n",
       "      <td>positive</td>\n",
       "    </tr>\n",
       "  </tbody>\n",
       "</table>\n",
       "</div>"
      ],
      "text/plain": [
       "                                              review sentiment\n",
       "0  One of the other reviewers has mentioned that ...  positive\n",
       "1  A wonderful little production. <br /><br />The...  positive\n",
       "2  I thought this was a wonderful way to spend ti...  positive\n",
       "3  Basically there's a family where a little boy ...  negative\n",
       "4  Petter Mattei's \"Love in the Time of Money\" is...  positive"
      ]
     },
     "execution_count": 16,
     "metadata": {},
     "output_type": "execute_result"
    }
   ],
   "source": [
    "first_5_rows = df.head(5)\n",
    "first_5_rows"
   ]
  },
  {
   "cell_type": "code",
   "execution_count": 25,
   "id": "e96ef329",
   "metadata": {},
   "outputs": [
    {
     "name": "stdout",
     "output_type": "stream",
     "text": [
      "predicted id:  2\n",
      "predicted id:  4\n",
      "predicted id:  3\n",
      "predicted id:  2\n",
      "predicted id:  3\n"
     ]
    },
    {
     "data": {
      "text/html": [
       "<div>\n",
       "<style scoped>\n",
       "    .dataframe tbody tr th:only-of-type {\n",
       "        vertical-align: middle;\n",
       "    }\n",
       "\n",
       "    .dataframe tbody tr th {\n",
       "        vertical-align: top;\n",
       "    }\n",
       "\n",
       "    .dataframe thead th {\n",
       "        text-align: right;\n",
       "    }\n",
       "</style>\n",
       "<table border=\"1\" class=\"dataframe\">\n",
       "  <thead>\n",
       "    <tr style=\"text-align: right;\">\n",
       "      <th></th>\n",
       "      <th>review</th>\n",
       "      <th>sentiment</th>\n",
       "      <th>predicted_sentiment</th>\n",
       "    </tr>\n",
       "  </thead>\n",
       "  <tbody>\n",
       "    <tr>\n",
       "      <th>0</th>\n",
       "      <td>One of the other reviewers has mentioned that ...</td>\n",
       "      <td>positive</td>\n",
       "      <td>neutral</td>\n",
       "    </tr>\n",
       "    <tr>\n",
       "      <th>1</th>\n",
       "      <td>A wonderful little production. &lt;br /&gt;&lt;br /&gt;The...</td>\n",
       "      <td>positive</td>\n",
       "      <td>very positive</td>\n",
       "    </tr>\n",
       "    <tr>\n",
       "      <th>2</th>\n",
       "      <td>I thought this was a wonderful way to spend ti...</td>\n",
       "      <td>positive</td>\n",
       "      <td>positive</td>\n",
       "    </tr>\n",
       "    <tr>\n",
       "      <th>3</th>\n",
       "      <td>Basically there's a family where a little boy ...</td>\n",
       "      <td>negative</td>\n",
       "      <td>neutral</td>\n",
       "    </tr>\n",
       "    <tr>\n",
       "      <th>4</th>\n",
       "      <td>Petter Mattei's \"Love in the Time of Money\" is...</td>\n",
       "      <td>positive</td>\n",
       "      <td>positive</td>\n",
       "    </tr>\n",
       "  </tbody>\n",
       "</table>\n",
       "</div>"
      ],
      "text/plain": [
       "                                              review sentiment  \\\n",
       "0  One of the other reviewers has mentioned that ...  positive   \n",
       "1  A wonderful little production. <br /><br />The...  positive   \n",
       "2  I thought this was a wonderful way to spend ti...  positive   \n",
       "3  Basically there's a family where a little boy ...  negative   \n",
       "4  Petter Mattei's \"Love in the Time of Money\" is...  positive   \n",
       "\n",
       "  predicted_sentiment  \n",
       "0             neutral  \n",
       "1       very positive  \n",
       "2            positive  \n",
       "3             neutral  \n",
       "4            positive  "
      ]
     },
     "execution_count": 25,
     "metadata": {},
     "output_type": "execute_result"
    }
   ],
   "source": [
    "import numpy as np \n",
    "\n",
    "sentiment_mapping = {\n",
    "    0: 'very_negative',\n",
    "    1: 'negative',\n",
    "    2: 'neutral',\n",
    "    3: 'positive',\n",
    "    4: 'very positive'\n",
    "}\n",
    "\n",
    "first_5_rows_copy = first_5_rows.copy()\n",
    "\n",
    "predicted_sentiments = []\n",
    "\n",
    "for title in first_5_rows_copy['review']:\n",
    "    \n",
    "    inputs = tokenizer(title)\n",
    "    \n",
    "    input_ids = inputs['input_ids']\n",
    "    \n",
    "    predictions = model.predict([input_ids])\n",
    "\n",
    "    logits = predictions.logits\n",
    "\n",
    "    predicted_class = np.argmax(logits)\n",
    "    \n",
    "    print(\"predicted id: \",predicted_class)\n",
    "    \n",
    "    \n",
    "    predicted_sentiment = sentiment_mapping[predicted_class]\n",
    "    \n",
    "    predicted_sentiments.append(predicted_sentiment)\n",
    "    \n",
    "first_5_rows_copy['predicted_sentiment'] = predicted_sentiments\n",
    "    \n",
    "\n",
    "first_5_rows_copy\n",
    "\n"
   ]
  },
  {
   "cell_type": "code",
   "execution_count": 27,
   "id": "81ce7f52",
   "metadata": {},
   "outputs": [
    {
     "data": {
      "text/html": [
       "<div>\n",
       "<style scoped>\n",
       "    .dataframe tbody tr th:only-of-type {\n",
       "        vertical-align: middle;\n",
       "    }\n",
       "\n",
       "    .dataframe tbody tr th {\n",
       "        vertical-align: top;\n",
       "    }\n",
       "\n",
       "    .dataframe thead th {\n",
       "        text-align: right;\n",
       "    }\n",
       "</style>\n",
       "<table border=\"1\" class=\"dataframe\">\n",
       "  <thead>\n",
       "    <tr style=\"text-align: right;\">\n",
       "      <th></th>\n",
       "      <th>ID</th>\n",
       "      <th>Feed</th>\n",
       "      <th>Sentiment</th>\n",
       "    </tr>\n",
       "  </thead>\n",
       "  <tbody>\n",
       "    <tr>\n",
       "      <th>0</th>\n",
       "      <td>1</td>\n",
       "      <td>الحلو انكم بتحكوا على اساس انو الاردن ما فيه ف...</td>\n",
       "      <td>Negative</td>\n",
       "    </tr>\n",
       "    <tr>\n",
       "      <th>1</th>\n",
       "      <td>2</td>\n",
       "      <td>كله رائع بجد ربنا يكرمك</td>\n",
       "      <td>Positive</td>\n",
       "    </tr>\n",
       "    <tr>\n",
       "      <th>2</th>\n",
       "      <td>3</td>\n",
       "      <td>ابشرك فيه تحسن ولله الحمد باذن الله يرجع قريبا</td>\n",
       "      <td>Positive</td>\n",
       "    </tr>\n",
       "    <tr>\n",
       "      <th>3</th>\n",
       "      <td>4</td>\n",
       "      <td>ابو الشباب راعي العود ليش ماوزنه في البيت غباء</td>\n",
       "      <td>Negative</td>\n",
       "    </tr>\n",
       "    <tr>\n",
       "      <th>4</th>\n",
       "      <td>5</td>\n",
       "      <td>ابو معيتق قطع اوتار العود وقال السلام عليكم</td>\n",
       "      <td>Negative</td>\n",
       "    </tr>\n",
       "    <tr>\n",
       "      <th>5</th>\n",
       "      <td>6</td>\n",
       "      <td>اترك ما تهوى لاجل من تخشى</td>\n",
       "      <td>Positive</td>\n",
       "    </tr>\n",
       "    <tr>\n",
       "      <th>6</th>\n",
       "      <td>7</td>\n",
       "      <td>اتصور لو ظليت ما اتعلق احسن لانه تعليقاتك مقرفه</td>\n",
       "      <td>Negative</td>\n",
       "    </tr>\n",
       "    <tr>\n",
       "      <th>7</th>\n",
       "      <td>8</td>\n",
       "      <td>اتفه على هيك برنامج عالمي</td>\n",
       "      <td>Negative</td>\n",
       "    </tr>\n",
       "    <tr>\n",
       "      <th>8</th>\n",
       "      <td>9</td>\n",
       "      <td>اتقوا الله فينا بكفي رفع اسعار الرواتب بالحضيض</td>\n",
       "      <td>Negative</td>\n",
       "    </tr>\n",
       "    <tr>\n",
       "      <th>9</th>\n",
       "      <td>10</td>\n",
       "      <td>اجتماع حواء اكيد في خرفنه</td>\n",
       "      <td>Negative</td>\n",
       "    </tr>\n",
       "    <tr>\n",
       "      <th>10</th>\n",
       "      <td>11</td>\n",
       "      <td>اجل الاخير واضح انو بيمثل وتمثيلو خام هو والا معو</td>\n",
       "      <td>Negative</td>\n",
       "    </tr>\n",
       "    <tr>\n",
       "      <th>11</th>\n",
       "      <td>12</td>\n",
       "      <td>احب الله تعالى و رسوله الكريم</td>\n",
       "      <td>Positive</td>\n",
       "    </tr>\n",
       "    <tr>\n",
       "      <th>12</th>\n",
       "      <td>13</td>\n",
       "      <td>احتمال ما يشارك الليو البايخ</td>\n",
       "      <td>Negative</td>\n",
       "    </tr>\n",
       "    <tr>\n",
       "      <th>13</th>\n",
       "      <td>14</td>\n",
       "      <td>احس انه يفطر حشيش</td>\n",
       "      <td>Negative</td>\n",
       "    </tr>\n",
       "    <tr>\n",
       "      <th>14</th>\n",
       "      <td>15</td>\n",
       "      <td>احسن اظن بالله وتوكل عليه وحده</td>\n",
       "      <td>Positive</td>\n",
       "    </tr>\n",
       "    <tr>\n",
       "      <th>15</th>\n",
       "      <td>16</td>\n",
       "      <td>احسن شيء العمل الذي يؤدي للاستمراريه</td>\n",
       "      <td>Positive</td>\n",
       "    </tr>\n",
       "    <tr>\n",
       "      <th>16</th>\n",
       "      <td>17</td>\n",
       "      <td>احسنت  وصفت ما يدور او يجول في راس كل شاب ملتز...</td>\n",
       "      <td>Positive</td>\n",
       "    </tr>\n",
       "    <tr>\n",
       "      <th>17</th>\n",
       "      <td>18</td>\n",
       "      <td>احسنت كلام دقيق جدا</td>\n",
       "      <td>Positive</td>\n",
       "    </tr>\n",
       "    <tr>\n",
       "      <th>18</th>\n",
       "      <td>19</td>\n",
       "      <td>احسنوا الظن وثقوا بما عند الله وتوكلوا عليه لا...</td>\n",
       "      <td>Positive</td>\n",
       "    </tr>\n",
       "    <tr>\n",
       "      <th>19</th>\n",
       "      <td>20</td>\n",
       "      <td>احقر من هيك خيانه ما في</td>\n",
       "      <td>Negative</td>\n",
       "    </tr>\n",
       "    <tr>\n",
       "      <th>20</th>\n",
       "      <td>21</td>\n",
       "      <td>احلى اشي الواحد يوكل بدون ما يطبخ</td>\n",
       "      <td>Positive</td>\n",
       "    </tr>\n",
       "    <tr>\n",
       "      <th>21</th>\n",
       "      <td>22</td>\n",
       "      <td>احلى اشي في الحياه الاستقرار مع زوج صالح</td>\n",
       "      <td>Positive</td>\n",
       "    </tr>\n",
       "    <tr>\n",
       "      <th>22</th>\n",
       "      <td>23</td>\n",
       "      <td>احلى شىء النهايه الباقيه صح كلامك</td>\n",
       "      <td>Positive</td>\n",
       "    </tr>\n",
       "    <tr>\n",
       "      <th>23</th>\n",
       "      <td>24</td>\n",
       "      <td>احلى صباح من احلى شيخ في العالم</td>\n",
       "      <td>Positive</td>\n",
       "    </tr>\n",
       "    <tr>\n",
       "      <th>24</th>\n",
       "      <td>25</td>\n",
       "      <td>احمد الله تعالى ان اولادي لايدرسون في مدارس ال...</td>\n",
       "      <td>Negative</td>\n",
       "    </tr>\n",
       "    <tr>\n",
       "      <th>25</th>\n",
       "      <td>26</td>\n",
       "      <td>احيانا الوحده تزيل بعضا من الهموم</td>\n",
       "      <td>Positive</td>\n",
       "    </tr>\n",
       "    <tr>\n",
       "      <th>26</th>\n",
       "      <td>27</td>\n",
       "      <td>احيانا يكون الفشل دافع للنجاح</td>\n",
       "      <td>Positive</td>\n",
       "    </tr>\n",
       "    <tr>\n",
       "      <th>27</th>\n",
       "      <td>28</td>\n",
       "      <td>اخ يا بطني عورني من الضحكك</td>\n",
       "      <td>Negative</td>\n",
       "    </tr>\n",
       "    <tr>\n",
       "      <th>28</th>\n",
       "      <td>29</td>\n",
       "      <td>اخبار مسخره</td>\n",
       "      <td>Negative</td>\n",
       "    </tr>\n",
       "    <tr>\n",
       "      <th>29</th>\n",
       "      <td>30</td>\n",
       "      <td>اخر همي اني اتناقش مع اي كائن حي اواتجادل بذات...</td>\n",
       "      <td>Negative</td>\n",
       "    </tr>\n",
       "    <tr>\n",
       "      <th>30</th>\n",
       "      <td>31</td>\n",
       "      <td>اخر واحد اش فيه مجنون المفرووض اللجنه تمنع الم...</td>\n",
       "      <td>Negative</td>\n",
       "    </tr>\n",
       "    <tr>\n",
       "      <th>31</th>\n",
       "      <td>32</td>\n",
       "      <td>اخر واحد مهستر</td>\n",
       "      <td>Negative</td>\n",
       "    </tr>\n",
       "    <tr>\n",
       "      <th>32</th>\n",
       "      <td>33</td>\n",
       "      <td>اخرس صحيح ما تفهم</td>\n",
       "      <td>Negative</td>\n",
       "    </tr>\n",
       "  </tbody>\n",
       "</table>\n",
       "</div>"
      ],
      "text/plain": [
       "    ID                                               Feed Sentiment\n",
       "0    1  الحلو انكم بتحكوا على اساس انو الاردن ما فيه ف...  Negative\n",
       "1    2                            كله رائع بجد ربنا يكرمك  Positive\n",
       "2    3     ابشرك فيه تحسن ولله الحمد باذن الله يرجع قريبا  Positive\n",
       "3    4     ابو الشباب راعي العود ليش ماوزنه في البيت غباء  Negative\n",
       "4    5        ابو معيتق قطع اوتار العود وقال السلام عليكم  Negative\n",
       "5    6                          اترك ما تهوى لاجل من تخشى  Positive\n",
       "6    7    اتصور لو ظليت ما اتعلق احسن لانه تعليقاتك مقرفه  Negative\n",
       "7    8                          اتفه على هيك برنامج عالمي  Negative\n",
       "8    9     اتقوا الله فينا بكفي رفع اسعار الرواتب بالحضيض  Negative\n",
       "9   10                          اجتماع حواء اكيد في خرفنه  Negative\n",
       "10  11  اجل الاخير واضح انو بيمثل وتمثيلو خام هو والا معو  Negative\n",
       "11  12                      احب الله تعالى و رسوله الكريم  Positive\n",
       "12  13                       احتمال ما يشارك الليو البايخ  Negative\n",
       "13  14                                  احس انه يفطر حشيش  Negative\n",
       "14  15                     احسن اظن بالله وتوكل عليه وحده  Positive\n",
       "15  16               احسن شيء العمل الذي يؤدي للاستمراريه  Positive\n",
       "16  17  احسنت  وصفت ما يدور او يجول في راس كل شاب ملتز...  Positive\n",
       "17  18                                احسنت كلام دقيق جدا  Positive\n",
       "18  19  احسنوا الظن وثقوا بما عند الله وتوكلوا عليه لا...  Positive\n",
       "19  20                            احقر من هيك خيانه ما في  Negative\n",
       "20  21                  احلى اشي الواحد يوكل بدون ما يطبخ  Positive\n",
       "21  22           احلى اشي في الحياه الاستقرار مع زوج صالح  Positive\n",
       "22  23                  احلى شىء النهايه الباقيه صح كلامك  Positive\n",
       "23  24                    احلى صباح من احلى شيخ في العالم  Positive\n",
       "24  25  احمد الله تعالى ان اولادي لايدرسون في مدارس ال...  Negative\n",
       "25  26                  احيانا الوحده تزيل بعضا من الهموم  Positive\n",
       "26  27                      احيانا يكون الفشل دافع للنجاح  Positive\n",
       "27  28                         اخ يا بطني عورني من الضحكك  Negative\n",
       "28  29                                        اخبار مسخره  Negative\n",
       "29  30  اخر همي اني اتناقش مع اي كائن حي اواتجادل بذات...  Negative\n",
       "30  31  اخر واحد اش فيه مجنون المفرووض اللجنه تمنع الم...  Negative\n",
       "31  32                                     اخر واحد مهستر  Negative\n",
       "32  33                                  اخرس صحيح ما تفهم  Negative"
      ]
     },
     "execution_count": 27,
     "metadata": {},
     "output_type": "execute_result"
    }
   ],
   "source": [
    "import pandas as pd\n",
    "csv_file = 'arabic_review.csv'\n",
    "df = pd.read_csv(csv_file)\n",
    "\n",
    "df"
   ]
  },
  {
   "cell_type": "code",
   "execution_count": 28,
   "id": "1dd9d3ae",
   "metadata": {},
   "outputs": [
    {
     "data": {
      "text/html": [
       "<div>\n",
       "<style scoped>\n",
       "    .dataframe tbody tr th:only-of-type {\n",
       "        vertical-align: middle;\n",
       "    }\n",
       "\n",
       "    .dataframe tbody tr th {\n",
       "        vertical-align: top;\n",
       "    }\n",
       "\n",
       "    .dataframe thead th {\n",
       "        text-align: right;\n",
       "    }\n",
       "</style>\n",
       "<table border=\"1\" class=\"dataframe\">\n",
       "  <thead>\n",
       "    <tr style=\"text-align: right;\">\n",
       "      <th></th>\n",
       "      <th>ID</th>\n",
       "      <th>Feed</th>\n",
       "      <th>Sentiment</th>\n",
       "    </tr>\n",
       "  </thead>\n",
       "  <tbody>\n",
       "    <tr>\n",
       "      <th>0</th>\n",
       "      <td>1</td>\n",
       "      <td>الحلو انكم بتحكوا على اساس انو الاردن ما فيه ف...</td>\n",
       "      <td>Negative</td>\n",
       "    </tr>\n",
       "    <tr>\n",
       "      <th>1</th>\n",
       "      <td>2</td>\n",
       "      <td>كله رائع بجد ربنا يكرمك</td>\n",
       "      <td>Positive</td>\n",
       "    </tr>\n",
       "    <tr>\n",
       "      <th>2</th>\n",
       "      <td>3</td>\n",
       "      <td>ابشرك فيه تحسن ولله الحمد باذن الله يرجع قريبا</td>\n",
       "      <td>Positive</td>\n",
       "    </tr>\n",
       "    <tr>\n",
       "      <th>3</th>\n",
       "      <td>4</td>\n",
       "      <td>ابو الشباب راعي العود ليش ماوزنه في البيت غباء</td>\n",
       "      <td>Negative</td>\n",
       "    </tr>\n",
       "    <tr>\n",
       "      <th>4</th>\n",
       "      <td>5</td>\n",
       "      <td>ابو معيتق قطع اوتار العود وقال السلام عليكم</td>\n",
       "      <td>Negative</td>\n",
       "    </tr>\n",
       "  </tbody>\n",
       "</table>\n",
       "</div>"
      ],
      "text/plain": [
       "   ID                                               Feed Sentiment\n",
       "0   1  الحلو انكم بتحكوا على اساس انو الاردن ما فيه ف...  Negative\n",
       "1   2                            كله رائع بجد ربنا يكرمك  Positive\n",
       "2   3     ابشرك فيه تحسن ولله الحمد باذن الله يرجع قريبا  Positive\n",
       "3   4     ابو الشباب راعي العود ليش ماوزنه في البيت غباء  Negative\n",
       "4   5        ابو معيتق قطع اوتار العود وقال السلام عليكم  Negative"
      ]
     },
     "execution_count": 28,
     "metadata": {},
     "output_type": "execute_result"
    }
   ],
   "source": [
    "first_5_rows = df.head(5)\n",
    "\n",
    "first_5_rows"
   ]
  },
  {
   "cell_type": "code",
   "execution_count": 29,
   "id": "bfedcfed",
   "metadata": {},
   "outputs": [
    {
     "name": "stdout",
     "output_type": "stream",
     "text": [
      "predicted id:  0\n",
      "predicted id:  4\n",
      "predicted id:  4\n",
      "predicted id:  4\n",
      "predicted id:  4\n"
     ]
    },
    {
     "data": {
      "text/html": [
       "<div>\n",
       "<style scoped>\n",
       "    .dataframe tbody tr th:only-of-type {\n",
       "        vertical-align: middle;\n",
       "    }\n",
       "\n",
       "    .dataframe tbody tr th {\n",
       "        vertical-align: top;\n",
       "    }\n",
       "\n",
       "    .dataframe thead th {\n",
       "        text-align: right;\n",
       "    }\n",
       "</style>\n",
       "<table border=\"1\" class=\"dataframe\">\n",
       "  <thead>\n",
       "    <tr style=\"text-align: right;\">\n",
       "      <th></th>\n",
       "      <th>ID</th>\n",
       "      <th>Feed</th>\n",
       "      <th>Sentiment</th>\n",
       "      <th>predicted_sentiment</th>\n",
       "    </tr>\n",
       "  </thead>\n",
       "  <tbody>\n",
       "    <tr>\n",
       "      <th>0</th>\n",
       "      <td>1</td>\n",
       "      <td>الحلو انكم بتحكوا على اساس انو الاردن ما فيه ف...</td>\n",
       "      <td>Negative</td>\n",
       "      <td>very_negative</td>\n",
       "    </tr>\n",
       "    <tr>\n",
       "      <th>1</th>\n",
       "      <td>2</td>\n",
       "      <td>كله رائع بجد ربنا يكرمك</td>\n",
       "      <td>Positive</td>\n",
       "      <td>very positive</td>\n",
       "    </tr>\n",
       "    <tr>\n",
       "      <th>2</th>\n",
       "      <td>3</td>\n",
       "      <td>ابشرك فيه تحسن ولله الحمد باذن الله يرجع قريبا</td>\n",
       "      <td>Positive</td>\n",
       "      <td>very positive</td>\n",
       "    </tr>\n",
       "    <tr>\n",
       "      <th>3</th>\n",
       "      <td>4</td>\n",
       "      <td>ابو الشباب راعي العود ليش ماوزنه في البيت غباء</td>\n",
       "      <td>Negative</td>\n",
       "      <td>very positive</td>\n",
       "    </tr>\n",
       "    <tr>\n",
       "      <th>4</th>\n",
       "      <td>5</td>\n",
       "      <td>ابو معيتق قطع اوتار العود وقال السلام عليكم</td>\n",
       "      <td>Negative</td>\n",
       "      <td>very positive</td>\n",
       "    </tr>\n",
       "  </tbody>\n",
       "</table>\n",
       "</div>"
      ],
      "text/plain": [
       "   ID                                               Feed Sentiment  \\\n",
       "0   1  الحلو انكم بتحكوا على اساس انو الاردن ما فيه ف...  Negative   \n",
       "1   2                            كله رائع بجد ربنا يكرمك  Positive   \n",
       "2   3     ابشرك فيه تحسن ولله الحمد باذن الله يرجع قريبا  Positive   \n",
       "3   4     ابو الشباب راعي العود ليش ماوزنه في البيت غباء  Negative   \n",
       "4   5        ابو معيتق قطع اوتار العود وقال السلام عليكم  Negative   \n",
       "\n",
       "  predicted_sentiment  \n",
       "0       very_negative  \n",
       "1       very positive  \n",
       "2       very positive  \n",
       "3       very positive  \n",
       "4       very positive  "
      ]
     },
     "execution_count": 29,
     "metadata": {},
     "output_type": "execute_result"
    }
   ],
   "source": [
    "import numpy as np \n",
    "\n",
    "sentiment_mapping = {\n",
    "    0: 'very_negative',\n",
    "    1: 'negative',\n",
    "    2: 'neutral',\n",
    "    3: 'positive',\n",
    "    4: 'very positive'\n",
    "}\n",
    "\n",
    "first_5_rows_copy = first_5_rows.copy()\n",
    "\n",
    "predicted_sentiments = []\n",
    "\n",
    "for title in first_5_rows_copy['Feed']:\n",
    "    \n",
    "    inputs = tokenizer(title)\n",
    "    \n",
    "    input_ids = inputs['input_ids']\n",
    "    \n",
    "    predictions = model.predict([input_ids])\n",
    "\n",
    "    logits = predictions.logits\n",
    "\n",
    "    predicted_class = np.argmax(logits)\n",
    "    \n",
    "    print(\"predicted id: \",predicted_class)\n",
    "    \n",
    "    \n",
    "    predicted_sentiment = sentiment_mapping[predicted_class]\n",
    "    \n",
    "    predicted_sentiments.append(predicted_sentiment)\n",
    "    \n",
    "first_5_rows_copy['predicted_sentiment'] = predicted_sentiments\n",
    "    \n",
    "\n",
    "first_5_rows_copy"
   ]
  },
  {
   "cell_type": "code",
   "execution_count": 30,
   "id": "cb047715",
   "metadata": {},
   "outputs": [
    {
     "name": "stdout",
     "output_type": "stream",
     "text": [
      "Collecting camel-tools\n",
      "  Downloading camel_tools-1.5.5-py3-none-any.whl.metadata (10 kB)\n",
      "Requirement already satisfied: future in c:\\users\\special tek\\appdata\\local\\programs\\python\\python39\\lib\\site-packages (from camel-tools) (0.18.2)\n",
      "Requirement already satisfied: six in c:\\users\\special tek\\appdata\\local\\programs\\python\\python39\\lib\\site-packages (from camel-tools) (1.16.0)\n",
      "Requirement already satisfied: docopt in c:\\users\\special tek\\appdata\\local\\programs\\python\\python39\\lib\\site-packages (from camel-tools) (0.6.2)\n",
      "Requirement already satisfied: cachetools in c:\\users\\special tek\\appdata\\local\\programs\\python\\python39\\lib\\site-packages (from camel-tools) (5.2.0)\n",
      "Requirement already satisfied: numpy<2 in c:\\users\\special tek\\appdata\\local\\programs\\python\\python39\\lib\\site-packages (from camel-tools) (1.23.5)\n",
      "Requirement already satisfied: scipy in c:\\users\\special tek\\appdata\\local\\programs\\python\\python39\\lib\\site-packages (from camel-tools) (1.9.3)\n",
      "Requirement already satisfied: pandas in c:\\users\\special tek\\appdata\\local\\programs\\python\\python39\\lib\\site-packages (from camel-tools) (2.1.1)\n",
      "Requirement already satisfied: scikit-learn in c:\\users\\special tek\\appdata\\local\\programs\\python\\python39\\lib\\site-packages (from camel-tools) (1.3.2)\n",
      "Collecting dill (from camel-tools)\n",
      "  Downloading dill-0.3.9-py3-none-any.whl.metadata (10 kB)\n",
      "Requirement already satisfied: torch>=2.0 in c:\\users\\special tek\\appdata\\local\\programs\\python\\python39\\lib\\site-packages (from camel-tools) (2.3.0)\n",
      "Requirement already satisfied: transformers<4.44.0,>=4.0 in c:\\users\\special tek\\appdata\\local\\programs\\python\\python39\\lib\\site-packages (from camel-tools) (4.40.2)\n",
      "Collecting editdistance (from camel-tools)\n",
      "  Downloading editdistance-0.8.1-cp39-cp39-win_amd64.whl.metadata (3.9 kB)\n",
      "Requirement already satisfied: requests in c:\\users\\special tek\\appdata\\local\\programs\\python\\python39\\lib\\site-packages (from camel-tools) (2.28.1)\n",
      "Collecting emoji (from camel-tools)\n",
      "  Downloading emoji-2.14.1-py3-none-any.whl.metadata (5.7 kB)\n",
      "Requirement already satisfied: pyrsistent in c:\\users\\special tek\\appdata\\local\\programs\\python\\python39\\lib\\site-packages (from camel-tools) (0.19.3)\n",
      "Requirement already satisfied: tabulate in c:\\users\\special tek\\appdata\\local\\programs\\python\\python39\\lib\\site-packages (from camel-tools) (0.9.0)\n",
      "Requirement already satisfied: tqdm in c:\\users\\special tek\\appdata\\local\\programs\\python\\python39\\lib\\site-packages (from camel-tools) (4.65.0)\n",
      "Collecting muddler (from camel-tools)\n",
      "  Downloading muddler-0.1.3-py3-none-any.whl.metadata (7.5 kB)\n",
      "Requirement already satisfied: filelock in c:\\users\\special tek\\appdata\\local\\programs\\python\\python39\\lib\\site-packages (from torch>=2.0->camel-tools) (3.13.4)\n",
      "Requirement already satisfied: typing-extensions>=4.8.0 in c:\\users\\special tek\\appdata\\local\\programs\\python\\python39\\lib\\site-packages (from torch>=2.0->camel-tools) (4.13.0)\n",
      "Requirement already satisfied: sympy in c:\\users\\special tek\\appdata\\local\\programs\\python\\python39\\lib\\site-packages (from torch>=2.0->camel-tools) (1.12)\n",
      "Requirement already satisfied: networkx in c:\\users\\special tek\\appdata\\local\\programs\\python\\python39\\lib\\site-packages (from torch>=2.0->camel-tools) (3.2.1)\n",
      "Requirement already satisfied: jinja2 in c:\\users\\special tek\\appdata\\local\\programs\\python\\python39\\lib\\site-packages (from torch>=2.0->camel-tools) (3.1.2)\n",
      "Requirement already satisfied: fsspec in c:\\users\\special tek\\appdata\\local\\programs\\python\\python39\\lib\\site-packages (from torch>=2.0->camel-tools) (2024.3.1)\n",
      "Requirement already satisfied: mkl<=2021.4.0,>=2021.1.1 in c:\\users\\special tek\\appdata\\local\\programs\\python\\python39\\lib\\site-packages (from torch>=2.0->camel-tools) (2021.4.0)\n",
      "Requirement already satisfied: huggingface-hub<1.0,>=0.19.3 in c:\\users\\special tek\\appdata\\local\\programs\\python\\python39\\lib\\site-packages (from transformers<4.44.0,>=4.0->camel-tools) (0.23.0)\n",
      "Requirement already satisfied: packaging>=20.0 in c:\\users\\special tek\\appdata\\local\\programs\\python\\python39\\lib\\site-packages (from transformers<4.44.0,>=4.0->camel-tools) (23.0)\n",
      "Requirement already satisfied: pyyaml>=5.1 in c:\\users\\special tek\\appdata\\local\\programs\\python\\python39\\lib\\site-packages (from transformers<4.44.0,>=4.0->camel-tools) (5.4.1)\n",
      "Requirement already satisfied: regex!=2019.12.17 in c:\\users\\special tek\\appdata\\local\\programs\\python\\python39\\lib\\site-packages (from transformers<4.44.0,>=4.0->camel-tools) (2024.5.15)\n",
      "Requirement already satisfied: tokenizers<0.20,>=0.19 in c:\\users\\special tek\\appdata\\local\\programs\\python\\python39\\lib\\site-packages (from transformers<4.44.0,>=4.0->camel-tools) (0.19.1)\n",
      "Requirement already satisfied: safetensors>=0.4.1 in c:\\users\\special tek\\appdata\\local\\programs\\python\\python39\\lib\\site-packages (from transformers<4.44.0,>=4.0->camel-tools) (0.4.3)\n",
      "Requirement already satisfied: colorama in c:\\users\\special tek\\appdata\\local\\programs\\python\\python39\\lib\\site-packages (from tqdm->camel-tools) (0.4.6)\n",
      "Requirement already satisfied: python-dateutil>=2.8.2 in c:\\users\\special tek\\appdata\\local\\programs\\python\\python39\\lib\\site-packages (from pandas->camel-tools) (2.8.2)\n",
      "Requirement already satisfied: pytz>=2020.1 in c:\\users\\special tek\\appdata\\local\\programs\\python\\python39\\lib\\site-packages (from pandas->camel-tools) (2023.3.post1)\n",
      "Requirement already satisfied: tzdata>=2022.1 in c:\\users\\special tek\\appdata\\local\\programs\\python\\python39\\lib\\site-packages (from pandas->camel-tools) (2023.3)\n",
      "Requirement already satisfied: charset-normalizer<3,>=2 in c:\\users\\special tek\\appdata\\local\\programs\\python\\python39\\lib\\site-packages (from requests->camel-tools) (2.1.1)\n",
      "Requirement already satisfied: idna<4,>=2.5 in c:\\users\\special tek\\appdata\\local\\programs\\python\\python39\\lib\\site-packages (from requests->camel-tools) (3.4)\n",
      "Requirement already satisfied: urllib3<1.27,>=1.21.1 in c:\\users\\special tek\\appdata\\local\\programs\\python\\python39\\lib\\site-packages (from requests->camel-tools) (1.26.13)\n",
      "Requirement already satisfied: certifi>=2017.4.17 in c:\\users\\special tek\\appdata\\local\\programs\\python\\python39\\lib\\site-packages (from requests->camel-tools) (2022.12.7)\n",
      "Requirement already satisfied: joblib>=1.1.1 in c:\\users\\special tek\\appdata\\local\\programs\\python\\python39\\lib\\site-packages (from scikit-learn->camel-tools) (1.3.2)\n",
      "Requirement already satisfied: threadpoolctl>=2.0.0 in c:\\users\\special tek\\appdata\\local\\programs\\python\\python39\\lib\\site-packages (from scikit-learn->camel-tools) (3.2.0)\n",
      "Requirement already satisfied: intel-openmp==2021.* in c:\\users\\special tek\\appdata\\local\\programs\\python\\python39\\lib\\site-packages (from mkl<=2021.4.0,>=2021.1.1->torch>=2.0->camel-tools) (2021.4.0)\n",
      "Requirement already satisfied: tbb==2021.* in c:\\users\\special tek\\appdata\\local\\programs\\python\\python39\\lib\\site-packages (from mkl<=2021.4.0,>=2021.1.1->torch>=2.0->camel-tools) (2021.12.0)\n",
      "Requirement already satisfied: MarkupSafe>=2.0 in c:\\users\\special tek\\appdata\\local\\programs\\python\\python39\\lib\\site-packages (from jinja2->torch>=2.0->camel-tools) (2.1.2)\n",
      "Requirement already satisfied: mpmath>=0.19 in c:\\users\\special tek\\appdata\\local\\programs\\python\\python39\\lib\\site-packages (from sympy->torch>=2.0->camel-tools) (1.3.0)\n",
      "Downloading camel_tools-1.5.5-py3-none-any.whl (124 kB)\n",
      "Downloading dill-0.3.9-py3-none-any.whl (119 kB)\n",
      "Downloading editdistance-0.8.1-cp39-cp39-win_amd64.whl (79 kB)\n",
      "Downloading emoji-2.14.1-py3-none-any.whl (590 kB)\n",
      "   ---------------------------------------- 0.0/590.6 kB ? eta -:--:--\n",
      "   ----------------- ---------------------- 262.1/590.6 kB ? eta -:--:--\n",
      "   ---------------------------------------- 590.6/590.6 kB 2.3 MB/s eta 0:00:00\n",
      "Downloading muddler-0.1.3-py3-none-any.whl (16 kB)\n",
      "Installing collected packages: muddler, emoji, editdistance, dill, camel-tools\n",
      "Successfully installed camel-tools-1.5.5 dill-0.3.9 editdistance-0.8.1 emoji-2.14.1 muddler-0.1.3\n",
      "Note: you may need to restart the kernel to use updated packages.\n"
     ]
    }
   ],
   "source": [
    "pip install camel-tools"
   ]
  },
  {
   "cell_type": "code",
   "execution_count": 31,
   "id": "ae151038",
   "metadata": {},
   "outputs": [
    {
     "name": "stderr",
     "output_type": "stream",
     "text": [
      "c:\\users\\special tek\\appdata\\local\\programs\\python\\python39\\lib\\site-packages\\huggingface_hub\\file_download.py:1132: FutureWarning: `resume_download` is deprecated and will be removed in version 1.0.0. Downloads always resume when possible. If you want to force a new download, use `force_download=True`.\n",
      "  warnings.warn(\n"
     ]
    },
    {
     "data": {
      "application/vnd.jupyter.widget-view+json": {
       "model_id": "d82bf651f70c4dd392de9e33efd4672d",
       "version_major": 2,
       "version_minor": 0
      },
      "text/plain": [
       "config.json:   0%|          | 0.00/841 [00:00<?, ?B/s]"
      ]
     },
     "metadata": {},
     "output_type": "display_data"
    },
    {
     "name": "stderr",
     "output_type": "stream",
     "text": [
      "c:\\users\\special tek\\appdata\\local\\programs\\python\\python39\\lib\\site-packages\\huggingface_hub\\file_download.py:157: UserWarning: `huggingface_hub` cache-system uses symlinks by default to efficiently store duplicated files but your machine does not support them in C:\\Users\\SPECIAL TEK\\.cache\\huggingface\\hub\\models--CAMeL-Lab--bert-base-arabic-camelbert-da-sentiment. Caching files will still work but in a degraded version that might require more space on your disk. This warning can be disabled by setting the `HF_HUB_DISABLE_SYMLINKS_WARNING` environment variable. For more details, see https://huggingface.co/docs/huggingface_hub/how-to-cache#limitations.\n",
      "To support symlinks on Windows, you either need to activate Developer Mode or to run Python as an administrator. In order to see activate developer mode, see this article: https://docs.microsoft.com/en-us/windows/apps/get-started/enable-your-device-for-development\n",
      "  warnings.warn(message)\n"
     ]
    },
    {
     "data": {
      "application/vnd.jupyter.widget-view+json": {
       "model_id": "768268df1a5546ee862f763afc8e0413",
       "version_major": 2,
       "version_minor": 0
      },
      "text/plain": [
       "pytorch_model.bin:   0%|          | 0.00/436M [00:00<?, ?B/s]"
      ]
     },
     "metadata": {},
     "output_type": "display_data"
    },
    {
     "data": {
      "application/vnd.jupyter.widget-view+json": {
       "model_id": "79fc62b0676d41df8e17cd9600c9a115",
       "version_major": 2,
       "version_minor": 0
      },
      "text/plain": [
       "tokenizer_config.json:   0%|          | 0.00/86.0 [00:00<?, ?B/s]"
      ]
     },
     "metadata": {},
     "output_type": "display_data"
    },
    {
     "data": {
      "application/vnd.jupyter.widget-view+json": {
       "model_id": "d27eb6df65be49c6b3f8293089c341a8",
       "version_major": 2,
       "version_minor": 0
      },
      "text/plain": [
       "vocab.txt:   0%|          | 0.00/305k [00:00<?, ?B/s]"
      ]
     },
     "metadata": {},
     "output_type": "display_data"
    },
    {
     "data": {
      "application/vnd.jupyter.widget-view+json": {
       "model_id": "d82d448b32154e8d97b9b0ea6439cf47",
       "version_major": 2,
       "version_minor": 0
      },
      "text/plain": [
       "special_tokens_map.json:   0%|          | 0.00/112 [00:00<?, ?B/s]"
      ]
     },
     "metadata": {},
     "output_type": "display_data"
    },
    {
     "data": {
      "text/plain": [
       "['negative']"
      ]
     },
     "execution_count": 31,
     "metadata": {},
     "output_type": "execute_result"
    }
   ],
   "source": [
    "from camel_tools.sentiment import SentimentAnalyzer\n",
    "model_name = SentimentAnalyzer(\"CAMeL-Lab/bert-base-arabic-camelbert-da-sentiment\")\n",
    "sentences = ['انا اكره عملي']\n",
    "model_name.predict(sentences)"
   ]
  },
  {
   "cell_type": "code",
   "execution_count": 32,
   "id": "b2609f9a",
   "metadata": {},
   "outputs": [
    {
     "data": {
      "text/plain": [
       "['positive']"
      ]
     },
     "execution_count": 32,
     "metadata": {},
     "output_type": "execute_result"
    }
   ],
   "source": [
    "sentences = ['انا احب عملي']\n",
    "model_name.predict(sentences)"
   ]
  },
  {
   "cell_type": "code",
   "execution_count": 33,
   "id": "e9c57334",
   "metadata": {},
   "outputs": [
    {
     "data": {
      "text/html": [
       "<div>\n",
       "<style scoped>\n",
       "    .dataframe tbody tr th:only-of-type {\n",
       "        vertical-align: middle;\n",
       "    }\n",
       "\n",
       "    .dataframe tbody tr th {\n",
       "        vertical-align: top;\n",
       "    }\n",
       "\n",
       "    .dataframe thead th {\n",
       "        text-align: right;\n",
       "    }\n",
       "</style>\n",
       "<table border=\"1\" class=\"dataframe\">\n",
       "  <thead>\n",
       "    <tr style=\"text-align: right;\">\n",
       "      <th></th>\n",
       "      <th>ID</th>\n",
       "      <th>Feed</th>\n",
       "      <th>Sentiment</th>\n",
       "      <th>predicted_sentiment</th>\n",
       "    </tr>\n",
       "  </thead>\n",
       "  <tbody>\n",
       "    <tr>\n",
       "      <th>0</th>\n",
       "      <td>1</td>\n",
       "      <td>الحلو انكم بتحكوا على اساس انو الاردن ما فيه ف...</td>\n",
       "      <td>Negative</td>\n",
       "      <td>[negative]</td>\n",
       "    </tr>\n",
       "    <tr>\n",
       "      <th>1</th>\n",
       "      <td>2</td>\n",
       "      <td>كله رائع بجد ربنا يكرمك</td>\n",
       "      <td>Positive</td>\n",
       "      <td>[positive]</td>\n",
       "    </tr>\n",
       "    <tr>\n",
       "      <th>2</th>\n",
       "      <td>3</td>\n",
       "      <td>ابشرك فيه تحسن ولله الحمد باذن الله يرجع قريبا</td>\n",
       "      <td>Positive</td>\n",
       "      <td>[positive]</td>\n",
       "    </tr>\n",
       "    <tr>\n",
       "      <th>3</th>\n",
       "      <td>4</td>\n",
       "      <td>ابو الشباب راعي العود ليش ماوزنه في البيت غباء</td>\n",
       "      <td>Negative</td>\n",
       "      <td>[negative]</td>\n",
       "    </tr>\n",
       "    <tr>\n",
       "      <th>4</th>\n",
       "      <td>5</td>\n",
       "      <td>ابو معيتق قطع اوتار العود وقال السلام عليكم</td>\n",
       "      <td>Negative</td>\n",
       "      <td>[negative]</td>\n",
       "    </tr>\n",
       "  </tbody>\n",
       "</table>\n",
       "</div>"
      ],
      "text/plain": [
       "   ID                                               Feed Sentiment  \\\n",
       "0   1  الحلو انكم بتحكوا على اساس انو الاردن ما فيه ف...  Negative   \n",
       "1   2                            كله رائع بجد ربنا يكرمك  Positive   \n",
       "2   3     ابشرك فيه تحسن ولله الحمد باذن الله يرجع قريبا  Positive   \n",
       "3   4     ابو الشباب راعي العود ليش ماوزنه في البيت غباء  Negative   \n",
       "4   5        ابو معيتق قطع اوتار العود وقال السلام عليكم  Negative   \n",
       "\n",
       "  predicted_sentiment  \n",
       "0          [negative]  \n",
       "1          [positive]  \n",
       "2          [positive]  \n",
       "3          [negative]  \n",
       "4          [negative]  "
      ]
     },
     "execution_count": 33,
     "metadata": {},
     "output_type": "execute_result"
    }
   ],
   "source": [
    "import numpy as np \n",
    "first_5_rows_copy = first_5_rows.copy()\n",
    "predicted_sentiments = []\n",
    "\n",
    "for title in first_5_rows_copy['Feed']:\n",
    "    predictions = model_name.predict([title])\n",
    "    predicted_sentiments.append(predictions)\n",
    "\n",
    "first_5_rows_copy['predicted_sentiment'] = predicted_sentiments\n",
    "first_5_rows_copy\n"
   ]
  }
 ],
 "metadata": {
  "kernelspec": {
   "display_name": "Python 3 (ipykernel)",
   "language": "python",
   "name": "python3"
  },
  "language_info": {
   "codemirror_mode": {
    "name": "ipython",
    "version": 3
   },
   "file_extension": ".py",
   "mimetype": "text/x-python",
   "name": "python",
   "nbconvert_exporter": "python",
   "pygments_lexer": "ipython3",
   "version": "3.9.0rc2"
  }
 },
 "nbformat": 4,
 "nbformat_minor": 5
}
